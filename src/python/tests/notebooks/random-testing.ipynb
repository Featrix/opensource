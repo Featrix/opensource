{
 "cells": [
  {
   "cell_type": "code",
   "id": "initial_id",
   "metadata": {
    "collapsed": true,
    "ExecuteTime": {
     "end_time": "2024-08-08T17:26:59.223267Z",
     "start_time": "2024-08-08T17:26:58.543282Z"
    }
   },
   "source": [
    "from pathlib import Path\n",
    "import uuid\n",
    "import sys \n",
    "import os \n",
    "\n",
    "from featrixclient import Featrix\n",
    "from featrixclient.featrix_embedding_space import FeatrixEmbeddingSpace\n",
    "from featrixclient.featrix_project import FeatrixProject\n",
    "from featrixclient.featrix_neural_function import FeatrixNeuralFunction\n",
    "from featrixclient.featrix_upload import FeatrixUpload\n",
    "from featrixclient.featrix_job import FeatrixJob\n",
    "from featrixclient.utils import featrix_wrap_pd_read_csv\n",
    "\n",
    "# be sure you have your client id and client secret in your environment... \n",
    "# \n",
    "# os.environ['FEATRIX_CLIENT_ID'] = \"your client id\"\n",
    "# os.environ['FEATRIX_CLIENT_SECRET'] = \"your client secret\"\n",
    "os.environ['FEATRIX_CLIENT_ID'] = \"65f9fc5c94e2d92af20ff47b\"\n",
    "os.environ['FEATRIX_CLIENT_SECRET'] = \"mtr_t4of2fHmlOs8tD0ABJi/0CNPCTeqYzSdx+v2zX/nEEQ=\"\n",
    "url = \"https://stage.featrix.com\"\n",
    "# url = \"https://app.featrix.com\"\n",
    "# url = \"http://localhost:3001\"\n",
    "\n",
    "fc = Featrix(url=url)\n",
    "\n",
    "projects = fc.projects()\n"
   ],
   "outputs": [],
   "execution_count": 3
  },
  {
   "metadata": {
    "ExecuteTime": {
     "end_time": "2024-08-08T17:29:12.131536Z",
     "start_time": "2024-08-08T17:29:12.129388Z"
    }
   },
   "cell_type": "code",
   "source": [
    "# List the projects we have in our account\n",
    "for p in projects:\n",
    "    print(f\"Project: {p.name} ({p.id} -- associated data {len(p.associated_uploads)})\")"
   ],
   "id": "4a5a8347a993c0fd",
   "outputs": [
    {
     "name": "stdout",
     "output_type": "stream",
     "text": [
      "Project: Testing FC dece9198-f1e4-4272-858c-e05173637940 (66b3d350fd34ec26b6c74649 -- associated data 1)\n",
      "Project: Testing FC 2db2d2c2-7540-44a9-a3d3-665b80f4fa46 (66b3d08a3f9e71e869407aba -- associated data 1)\n",
      "Project: Testing FC 383f3a65-d7bb-4ffc-8da5-5afce0181887 (66b3ba666b2d29b4e5b80b5a -- associated data 1)\n",
      "Project: Testing FC 67488b81-2c94-4176-b3e8-3e6a52eed356 (66b3b75cfcba35085277c8fc -- associated data 1)\n",
      "Project: Testing FC (66b3b30dfcba35085277c8f9 -- associated data 1)\n",
      "Project: jul11-two (668fe64a9ed407f5cb6fe419 -- associated data 1)\n",
      "Project: jul9final (668dcee4d69f6f60bee3e141 -- associated data 1)\n",
      "Project: ddd (668d7a1c9cdacf6386bb3581 -- associated data 1)\n",
      "Project: flex (668009b321b9c3d2121087b4 -- associated data 1)\n"
     ]
    }
   ],
   "execution_count": 4
  },
  {
   "metadata": {},
   "cell_type": "code",
   "source": [
    "#\n",
    "#  Create a new project and train an embedding space in it \n",
    "#\n",
    "\n",
    "project = fc.create_project(f\"Testing FC {uuid.uuid4()}\")\n",
    "upload = fc.upload_file(Path(\"../data/animals-1k.csv\"))\n",
    "# If you already have it uploaded, you can find it with:\n",
    "# upload = fc.get_upload(filename=\"animals-1k.csv\")\n",
    "project = project.associate(upload)\n",
    "if project.ready() is False:\n",
    "    jobs = upload.get_jobs()\n",
    "    jobs[-1].wait_for_completion(\"Processing Upload...\")\n",
    "    \n",
    "es = fc.create_embedding_space(project, \"Testing Embedding Space\")\n",
    "jobs = es.get_jobs()\n",
    "# Should be 1 here -- the training job (there is also a create projection, but that isnt' a training job...\n",
    "assert(1 == len(jobs))\n",
    "assert(2 == len(es.get_jobs(active=True, training=False)))\n",
    "training = jobs[0]\n",
    "print(f\"Job {training.job_type} ({training.id}) started\")\n",
    "training.wait_for_completion(\"Training...\")\n"
   ],
   "id": "8d887dcfa0955292",
   "execution_count": 3,
   "outputs": [
    {
     "name": "stdout",
     "output_type": "stream",
     "text": [
      "Training... Running: training;    100.0% complete (00:00:00 remaining); epoch = 5/5; current loss = 1.108\n"
     ]
    },
    {
     "data": {
      "text/plain": [
       "FeatrixJob(id=ObjectId('66b3d351fd34ec26b6c7464d'), created_by=ObjectId('65f9fc5c94e2d92af20ff47b'), created_at=datetime.datetime(2024, 8, 7, 20, 4, 33, 472000), updated_at=datetime.datetime(2024, 8, 7, 20, 5, 44, 837000), organization_id=ObjectId('65f9fc5a94e2d92af20ff47a'), job_type=<JobType.JOB_TYPE_ES_CREATE: 'embedding-space-create'>, readonly_object=False, project_id=ObjectId('66b3d350fd34ec26b6c74649'), embedding_space_id=ObjectId('66b3d351fd34ec26b6c7464c'), model_id=None, upload_ids=None, finished=True, error=False, message=None, error_msg=None, error_details=None, error_time=None, exception=None, warnings=[], start_time=datetime.datetime(2024, 8, 7, 20, 4, 41, 817000), end_time=datetime.datetime(2024, 8, 7, 20, 5, 41, 896000), celery_id=None, changed_ids=None, finished_stats=JobUsageStats(hostname='stage-worker-01', taken=datetime.datetime(2024, 8, 7, 20, 5, 39, 887000), cpu_usage=ProcessStats(user=363.19, system=11.19, children_user=0.0, children_system=0.0), platform=PlatformInfo(kernel_version='6.5.0-9-generic', system_name='Linux', node_name='stage-worker-01', machine='x86_64'), memory=MemoryInfo(total_memory=15.608665466308594, available_memory=12.900768280029297, used_memory=2.3738059997558594, memory_percentage=17.3), cpu_hw=CPUInfo(physical_cores=8, total_cores=8, cpu_usage_per_core=[0.0, 1.0, 1.0, 1.0, 0.0, 1.0, 0.0, 0.0], total_cpu_usage=0.0), disk=DiskOverview(partitions=[PartitionInfo(partition_usage=PartitionUsage(total=498131243008, used=25584422912, free=472530042880, percent=5.1), partition_detail=PartitionDetail(device='/dev/vda1', mountpoint='/', fstype='ext4', opts='rw,relatime,discard,errors=remount-ro,commit=30', maxfile=255, maxpath=4096), disk_info=DiskInfo(total_space=463.92087173461914, used_space=23.827350616455078, free_space=440.07789611816406, usage_percentage=5.1)), PartitionInfo(partition_usage=PartitionUsage(total=923156480, used=115007488, free=743505920, percent=13.4), partition_detail=PartitionDetail(device='/dev/vda16', mountpoint='/boot', fstype='ext4', opts='rw,relatime', maxfile=255, maxpath=4096), disk_info=DiskInfo(total_space=0.8597564697265625, used_space=0.10710906982421875, free_space=0.69244384765625, usage_percentage=13.4)), PartitionInfo(partition_usage=PartitionUsage(total=498131243008, used=25584422912, free=472530042880, percent=5.1), partition_detail=PartitionDetail(device='/dev/vda1', mountpoint='/snap', fstype='ext4', opts='rw,relatime,discard,errors=remount-ro,commit=30', maxfile=255, maxpath=4096), disk_info=DiskInfo(total_space=463.92087173461914, used_space=23.827350616455078, free_space=440.07789611816406, usage_percentage=5.1)), PartitionInfo(partition_usage=PartitionUsage(total=109395456, used=6346240, free=103049216, percent=5.8), partition_detail=PartitionDetail(device='/dev/vda15', mountpoint='/boot/efi', fstype='vfat', opts='rw,relatime,fmask=0077,dmask=0077,codepage=437,iocharset=iso8859-1,shortname=mixed,errors=remount-ro', maxfile=1530, maxpath=4096), disk_info=DiskInfo(total_space=0.1018824577331543, used_space=0.005910396575927734, free_space=0.09597206115722656, usage_percentage=5.8)), PartitionInfo(partition_usage=PartitionUsage(total=189792256, used=189792256, free=0, percent=100.0), partition_detail=PartitionDetail(device='/dev/loop1', mountpoint='/snap/lxd/25945', fstype='squashfs', opts='ro,nodev,relatime,errors=continue,threads=single', maxfile=256, maxpath=4096), disk_info=DiskInfo(total_space=0.1767578125, used_space=0.1767578125, free_space=0.0, usage_percentage=100.0)), PartitionInfo(partition_usage=PartitionUsage(total=189792256, used=189792256, free=0, percent=100.0), partition_detail=PartitionDetail(device='/dev/loop1', mountpoint='/snap/lxd/25945', fstype='squashfs', opts='ro,nodev,relatime,errors=continue,threads=single', maxfile=256, maxpath=4096), disk_info=DiskInfo(total_space=0.1767578125, used_space=0.1767578125, free_space=0.0, usage_percentage=100.0)), PartitionInfo(partition_usage=PartitionUsage(total=42860544, used=42860544, free=0, percent=100.0), partition_detail=PartitionDetail(device='/dev/loop2', mountpoint='/snap/snapd/20290', fstype='squashfs', opts='ro,nodev,relatime,errors=continue,threads=single', maxfile=256, maxpath=4096), disk_info=DiskInfo(total_space=0.0399169921875, used_space=0.0399169921875, free_space=0.0, usage_percentage=100.0)), PartitionInfo(partition_usage=PartitionUsage(total=42860544, used=42860544, free=0, percent=100.0), partition_detail=PartitionDetail(device='/dev/loop2', mountpoint='/snap/snapd/20290', fstype='squashfs', opts='ro,nodev,relatime,errors=continue,threads=single', maxfile=256, maxpath=4096), disk_info=DiskInfo(total_space=0.0399169921875, used_space=0.0399169921875, free_space=0.0, usage_percentage=100.0)), PartitionInfo(partition_usage=PartitionUsage(total=40763392, used=40763392, free=0, percent=100.0), partition_detail=PartitionDetail(device='/dev/loop3', mountpoint='/snap/snapd/21759', fstype='squashfs', opts='ro,nodev,relatime,errors=continue,threads=single', maxfile=256, maxpath=4096), disk_info=DiskInfo(total_space=0.0379638671875, used_space=0.0379638671875, free_space=0.0, usage_percentage=100.0)), PartitionInfo(partition_usage=PartitionUsage(total=40763392, used=40763392, free=0, percent=100.0), partition_detail=PartitionDetail(device='/dev/loop3', mountpoint='/snap/snapd/21759', fstype='squashfs', opts='ro,nodev,relatime,errors=continue,threads=single', maxfile=256, maxpath=4096), disk_info=DiskInfo(total_space=0.0379638671875, used_space=0.0379638671875, free_space=0.0, usage_percentage=100.0)), PartitionInfo(partition_usage=PartitionUsage(total=77856768, used=77856768, free=0, percent=100.0), partition_detail=PartitionDetail(device='/dev/loop4', mountpoint='/snap/core22/1380', fstype='squashfs', opts='ro,nodev,relatime,errors=continue,threads=single', maxfile=256, maxpath=4096), disk_info=DiskInfo(total_space=0.072509765625, used_space=0.072509765625, free_space=0.0, usage_percentage=100.0)), PartitionInfo(partition_usage=PartitionUsage(total=77856768, used=77856768, free=0, percent=100.0), partition_detail=PartitionDetail(device='/dev/loop4', mountpoint='/snap/core22/1380', fstype='squashfs', opts='ro,nodev,relatime,errors=continue,threads=single', maxfile=256, maxpath=4096), disk_info=DiskInfo(total_space=0.072509765625, used_space=0.072509765625, free_space=0.0, usage_percentage=100.0)), PartitionInfo(partition_usage=PartitionUsage(total=109182976, used=109182976, free=0, percent=100.0), partition_detail=PartitionDetail(device='/dev/loop5', mountpoint='/snap/lxd/29727', fstype='squashfs', opts='ro,nodev,relatime,errors=continue,threads=single', maxfile=256, maxpath=4096), disk_info=DiskInfo(total_space=0.1016845703125, used_space=0.1016845703125, free_space=0.0, usage_percentage=100.0)), PartitionInfo(partition_usage=PartitionUsage(total=109182976, used=109182976, free=0, percent=100.0), partition_detail=PartitionDetail(device='/dev/loop5', mountpoint='/snap/lxd/29727', fstype='squashfs', opts='ro,nodev,relatime,errors=continue,threads=single', maxfile=256, maxpath=4096), disk_info=DiskInfo(total_space=0.1016845703125, used_space=0.1016845703125, free_space=0.0, usage_percentage=100.0)), PartitionInfo(partition_usage=PartitionUsage(total=77856768, used=77856768, free=0, percent=100.0), partition_detail=PartitionDetail(device='/dev/loop6', mountpoint='/snap/core22/1439', fstype='squashfs', opts='ro,nodev,relatime,errors=continue,threads=single', maxfile=256, maxpath=4096), disk_info=DiskInfo(total_space=0.072509765625, used_space=0.072509765625, free_space=0.0, usage_percentage=100.0)), PartitionInfo(partition_usage=PartitionUsage(total=77856768, used=77856768, free=0, percent=100.0), partition_detail=PartitionDetail(device='/dev/loop6', mountpoint='/snap/core22/1439', fstype='squashfs', opts='ro,nodev,relatime,errors=continue,threads=single', maxfile=256, maxpath=4096), disk_info=DiskInfo(total_space=0.072509765625, used_space=0.072509765625, free_space=0.0, usage_percentage=100.0))]), load=LoadStats(load_average_1=5.6083984375, load_average_5=1.92431640625, load_average_15=1.8701171875), job_disk_usage=123364703, customer_disk_usage=0), request_args={'job_type': 'embedding-space-create', 'skip_auto_load': False, 'transient_upload_file_name': None, 'upload_ids': None, 'project_id': '66b3d350fd34ec26b6c74649', 'embedding_space_id': '66b3d351fd34ec26b6c7464c', 'name': 'Testing Embedding Space', 'epochs': 5, 'batch_size': 32, 'detect_only': False, 'detect_only_filename': None, 'use_gpu': False, 'ignore_cols': [], 'focus_cols': [], 'debug_detector': None, 'rows': None, 'encoder': None, 'force': False, 'learning_rate': 0.001, 'drop_duplicates': True, 'sample_percentage': 1.0, 'training_debug': False, 'follow_on_model_info': None, 'training_budget_credits': 3.0}, incremental_status=JobIncrementalStatus(status='training', start_time=datetime.datetime(2024, 8, 7, 20, 4, 41, 817000), end_time=None, time_now=datetime.datetime(2024, 8, 7, 20, 4, 56, 144000), progress_counter=160, max_progress=160, epoch_idx=4, epoch_total=5, batch_idx=31, batch_total=160, current_loss=1.1084657907485962, validation_loss=None, message='Running: training;    100.0% complete (00:00:00 remaining); epoch = 5/5; current loss = 1.108', percent_complete=100.0, waiting=None, debug_label='Testing Embedding Space', resource_usage=[{'epoch': 1, 'pid': 147015, 'p_create_time': 1723061074.43, 'p_cpu_times': {'user': 24.8, 'system': 2.24}, 'p_mem_info': {'rss': 684310528, 'vms': 4655722496}}, {'epoch': 2, 'pid': 147015, 'p_create_time': 1723061074.43, 'p_cpu_times': {'user': 40.06, 'system': 2.32}, 'p_mem_info': {'rss': 691519488, 'vms': 4660965376}}, {'epoch': 3, 'pid': 147015, 'p_create_time': 1723061074.43, 'p_cpu_times': {'user': 54.13, 'system': 2.37}, 'p_mem_info': {'rss': 691519488, 'vms': 4660965376}}, {'epoch': 4, 'pid': 147015, 'p_create_time': 1723061074.43, 'p_cpu_times': {'user': 68.11, 'system': 2.44}, 'p_mem_info': {'rss': 691650560, 'vms': 4660965376}}, {'epoch': 5, 'pid': 147015, 'p_create_time': 1723061074.43, 'p_cpu_times': {'user': 84.96, 'system': 2.49}, 'p_mem_info': {'rss': 691650560, 'vms': 4660965376}}], loss_history=[{'epoch': 1, 'current_learning_rate': [0.0006178857029688359], 'loss': 1.6008868217468262, 'validation_loss': 0, 'time_now': 1723061085.293432, 'duration': 2.988851308822632}, {'epoch': 2, 'current_learning_rate': [0.0009925386089778474], 'loss': 1.5711936950683594, 'validation_loss': 0, 'time_now': 1723061087.9791124, 'duration': 2.619154453277588}, {'epoch': 3, 'current_learning_rate': [0.0008025237258774766], 'loss': 1.4623339176177979, 'validation_loss': 0, 'time_now': 1723061090.4770415, 'duration': 2.437403917312622}, {'epoch': 4, 'current_learning_rate': [0.00045099362586950033], 'loss': 1.350095510482788, 'validation_loss': 0, 'time_now': 1723061092.959141, 'duration': 2.4248814582824707}, {'epoch': 5, 'current_learning_rate': [0.00012562891333912498], 'loss': 1.1084657907485962, 'validation_loss': 0, 'time_now': 1723061096.0531983, 'duration': 3.0374834537506104}], num_rows=1000, num_cols=3, compute_device='cpu', pid=147015, hostname='stage-worker-01', current_learning_rate=[0.00012562891333912498]), last_updated=datetime.datetime(2024, 8, 7, 20, 5, 41, 896000), results=None, chained_job_id=ObjectId('66b3d351fd34ec26b6c7464e'), working_directory='/opt/featrix/featrix-workpath/65f9fc5a94e2d92af20ff47a/66b3d351fd34ec26b6c7464d', working_host='stage-worker-01:droplet-ident-437555157', incident=None, system_meta=None, auto_launch=None, required_job_id=None, parent_job_id=None)"
      ]
     },
     "execution_count": 3,
     "metadata": {},
     "output_type": "execute_result"
    }
   ]
  },
  {
   "metadata": {
    "ExecuteTime": {
     "end_time": "2024-08-07T20:09:49.304072Z",
     "start_time": "2024-08-07T20:09:48.301862Z"
    }
   },
   "cell_type": "code",
   "source": [
    "#\n",
    "#  Encode a record  \n",
    "records = es.encode_record(Path(\"../data/animals-1kv2.csv\"))\n",
    "# print(records)\n",
    "\n",
    "# df = featrix_wrap_pd_read_csv(Path(\"../data/animals-1kv2.csv\"))\n",
    "# records2 = es.encode_record(df)\n",
    "# # print(records2)"
   ],
   "id": "6e642edc2553a7c6",
   "outputs": [
    {
     "name": "stdout",
     "output_type": "stream",
     "text": [
      "\tTRACE CSV: working with file_path = ../data/animals-1kv2.csv\n"
     ]
    },
    {
     "ename": "FeatrixConnectionError",
     "evalue": "Connection error for URL https://stage.featrix.com/api/neural/embedding_space/fast-encode-records: __No more retries, multiple errors __",
     "output_type": "error",
     "traceback": [
      "\u001B[0;31m---------------------------------------------------------------------------\u001B[0m",
      "\u001B[0;31mFeatrixConnectionError\u001B[0m                    Traceback (most recent call last)",
      "Cell \u001B[0;32mIn[5], line 3\u001B[0m\n\u001B[1;32m      1\u001B[0m \u001B[38;5;66;03m#\u001B[39;00m\n\u001B[1;32m      2\u001B[0m \u001B[38;5;66;03m#  Encode a record  \u001B[39;00m\n\u001B[0;32m----> 3\u001B[0m records \u001B[38;5;241m=\u001B[39m \u001B[43mes\u001B[49m\u001B[38;5;241;43m.\u001B[39;49m\u001B[43mencode_record\u001B[49m\u001B[43m(\u001B[49m\u001B[43mPath\u001B[49m\u001B[43m(\u001B[49m\u001B[38;5;124;43m\"\u001B[39;49m\u001B[38;5;124;43m../data/animals-1kv2.csv\u001B[39;49m\u001B[38;5;124;43m\"\u001B[39;49m\u001B[43m)\u001B[49m\u001B[43m)\u001B[49m\n\u001B[1;32m      4\u001B[0m \u001B[38;5;66;03m# print(records)\u001B[39;00m\n\u001B[1;32m      5\u001B[0m \n\u001B[1;32m      6\u001B[0m \u001B[38;5;66;03m# df = featrix_wrap_pd_read_csv(Path(\"../data/animals-1kv2.csv\"))\u001B[39;00m\n\u001B[1;32m      7\u001B[0m \u001B[38;5;66;03m# records2 = es.encode_record(df)\u001B[39;00m\n\u001B[1;32m      8\u001B[0m \u001B[38;5;66;03m# # print(records2)\u001B[39;00m\n",
      "File \u001B[0;32m~/src/fc_os/src/python/featrixclient/featrix_embedding_space.py:488\u001B[0m, in \u001B[0;36mFeatrixEmbeddingSpace.encode_record\u001B[0;34m(self, upload)\u001B[0m\n\u001B[1;32m    481\u001B[0m     records \u001B[38;5;241m=\u001B[39m df\u001B[38;5;241m.\u001B[39mto_dict(orient\u001B[38;5;241m=\u001B[39m\u001B[38;5;124m\"\u001B[39m\u001B[38;5;124mrecords\u001B[39m\u001B[38;5;124m\"\u001B[39m)\n\u001B[1;32m    482\u001B[0m encode_args \u001B[38;5;241m=\u001B[39m EncodeRecordsArgs(\n\u001B[1;32m    483\u001B[0m     project_id\u001B[38;5;241m=\u001B[39m\u001B[38;5;28mstr\u001B[39m(\u001B[38;5;28mself\u001B[39m\u001B[38;5;241m.\u001B[39mproject_id),\n\u001B[1;32m    484\u001B[0m     embedding_space_id\u001B[38;5;241m=\u001B[39m\u001B[38;5;28mstr\u001B[39m(\u001B[38;5;28mself\u001B[39m\u001B[38;5;241m.\u001B[39mid),\n\u001B[1;32m    485\u001B[0m     \u001B[38;5;66;03m# upload_id=str(upload.id),\u001B[39;00m\n\u001B[1;32m    486\u001B[0m     records\u001B[38;5;241m=\u001B[39mrecords\n\u001B[1;32m    487\u001B[0m )\n\u001B[0;32m--> 488\u001B[0m result \u001B[38;5;241m=\u001B[39m \u001B[38;5;28;43mself\u001B[39;49m\u001B[38;5;241;43m.\u001B[39;49m\u001B[43m_fc\u001B[49m\u001B[38;5;241;43m.\u001B[39;49m\u001B[43mapi\u001B[49m\u001B[38;5;241;43m.\u001B[39;49m\u001B[43mop\u001B[49m\u001B[43m(\u001B[49m\u001B[38;5;124;43m\"\u001B[39;49m\u001B[38;5;124;43mjob_fast_encode_records\u001B[39;49m\u001B[38;5;124;43m\"\u001B[39;49m\u001B[43m,\u001B[49m\u001B[43m \u001B[49m\u001B[43mencode_args\u001B[49m\u001B[43m)\u001B[49m\n\u001B[1;32m    489\u001B[0m \u001B[38;5;28;01mreturn\u001B[39;00m result\n",
      "File \u001B[0;32m~/src/fc_os/src/python/featrixclient/api.py:218\u001B[0m, in \u001B[0;36mFeatrixApi.op\u001B[0;34m(self, api_call, *args, **kwargs)\u001B[0m\n\u001B[1;32m    216\u001B[0m \u001B[38;5;66;03m# print(f\"Calling _op with args type {type(arguments)}\")\u001B[39;00m\n\u001B[1;32m    217\u001B[0m url \u001B[38;5;241m=\u001B[39m \u001B[38;5;124mf\u001B[39m\u001B[38;5;124m\"\u001B[39m\u001B[38;5;132;01m{\u001B[39;00m\u001B[38;5;28mself\u001B[39m\u001B[38;5;241m.\u001B[39murl\u001B[38;5;132;01m}\u001B[39;00m\u001B[38;5;132;01m{\u001B[39;00mApiInfo\u001B[38;5;241m.\u001B[39murl_substitution(api\u001B[38;5;241m.\u001B[39murl,\u001B[38;5;250m \u001B[39m\u001B[38;5;241m*\u001B[39m\u001B[38;5;241m*\u001B[39mkwargs)\u001B[38;5;132;01m}\u001B[39;00m\u001B[38;5;124m\"\u001B[39m\n\u001B[0;32m--> 218\u001B[0m response_data \u001B[38;5;241m=\u001B[39m \u001B[38;5;28;43mself\u001B[39;49m\u001B[38;5;241;43m.\u001B[39;49m\u001B[43m_op\u001B[49m\u001B[43m(\u001B[49m\u001B[43mverb\u001B[49m\u001B[43m,\u001B[49m\u001B[43m \u001B[49m\u001B[43murl\u001B[49m\u001B[43m,\u001B[49m\u001B[43m \u001B[49m\u001B[38;5;28;43mself\u001B[39;49m\u001B[38;5;241;43m.\u001B[39;49m\u001B[43m_featrix_headers\u001B[49m\u001B[43m(\u001B[49m\u001B[43m)\u001B[49m\u001B[43m,\u001B[49m\u001B[43m \u001B[49m\u001B[43marguments\u001B[49m\u001B[43m,\u001B[49m\u001B[43m \u001B[49m\u001B[43mfiles\u001B[49m\u001B[43m)\u001B[49m\n\u001B[1;32m    219\u001B[0m \u001B[38;5;28;01mreturn\u001B[39;00m ApiInfo\u001B[38;5;241m.\u001B[39mfeatrix_validate(api_call, response_data)\n",
      "File \u001B[0;32m~/src/fc_os/src/python/featrixclient/api.py:286\u001B[0m, in \u001B[0;36mFeatrixApi._op\u001B[0;34m(self, verb, url, headers, args, files, retries)\u001B[0m\n\u001B[1;32m    281\u001B[0m     \u001B[38;5;66;03m# special_exception = ParseFeatrixError(err_text)\u001B[39;00m\n\u001B[1;32m    282\u001B[0m     \u001B[38;5;66;03m# if special_exception is not None:\u001B[39;00m\n\u001B[1;32m    283\u001B[0m     \u001B[38;5;66;03m#     raise special_exception\u001B[39;00m\n\u001B[1;32m    285\u001B[0m \u001B[38;5;28;01mif\u001B[39;00m retries \u001B[38;5;241m>\u001B[39m \u001B[38;5;241m0\u001B[39m:\n\u001B[0;32m--> 286\u001B[0m     \u001B[38;5;28;01mreturn\u001B[39;00m \u001B[38;5;28;43mself\u001B[39;49m\u001B[38;5;241;43m.\u001B[39;49m\u001B[43m_op\u001B[49m\u001B[43m(\u001B[49m\u001B[43mverb\u001B[49m\u001B[43m,\u001B[49m\u001B[43m \u001B[49m\u001B[43murl\u001B[49m\u001B[43m,\u001B[49m\u001B[43m \u001B[49m\u001B[43mheaders\u001B[49m\u001B[43m,\u001B[49m\u001B[43m \u001B[49m\u001B[43margs\u001B[49m\u001B[43m,\u001B[49m\u001B[43m \u001B[49m\u001B[43mfiles\u001B[49m\u001B[43m,\u001B[49m\u001B[43m \u001B[49m\u001B[43mretries\u001B[49m\u001B[38;5;241;43m=\u001B[39;49m\u001B[43mretries\u001B[49m\u001B[43m \u001B[49m\u001B[38;5;241;43m-\u001B[39;49m\u001B[43m \u001B[49m\u001B[38;5;241;43m1\u001B[39;49m\u001B[43m)\u001B[49m\n\u001B[1;32m    287\u001B[0m \u001B[38;5;28;01mraise\u001B[39;00m FeatrixConnectionError(\n\u001B[1;32m    288\u001B[0m     url,\n\u001B[1;32m    289\u001B[0m     \u001B[38;5;124mf\u001B[39m\u001B[38;5;124m\"\u001B[39m\u001B[38;5;124mNo more retries, multiple errors \u001B[39m\u001B[38;5;132;01m{\u001B[39;00mresponse\u001B[38;5;241m.\u001B[39mstatus_code\u001B[38;5;250m \u001B[39m\u001B[38;5;28;01mif\u001B[39;00m\u001B[38;5;250m \u001B[39mresponse\u001B[38;5;250m \u001B[39m\u001B[38;5;28;01melse\u001B[39;00m\u001B[38;5;250m \u001B[39m\u001B[38;5;124m'\u001B[39m\u001B[38;5;124m'\u001B[39m\u001B[38;5;132;01m}\u001B[39;00m\u001B[38;5;124m\"\u001B[39m,\n\u001B[1;32m    290\u001B[0m )\n",
      "File \u001B[0;32m~/src/fc_os/src/python/featrixclient/api.py:286\u001B[0m, in \u001B[0;36mFeatrixApi._op\u001B[0;34m(self, verb, url, headers, args, files, retries)\u001B[0m\n\u001B[1;32m    281\u001B[0m     \u001B[38;5;66;03m# special_exception = ParseFeatrixError(err_text)\u001B[39;00m\n\u001B[1;32m    282\u001B[0m     \u001B[38;5;66;03m# if special_exception is not None:\u001B[39;00m\n\u001B[1;32m    283\u001B[0m     \u001B[38;5;66;03m#     raise special_exception\u001B[39;00m\n\u001B[1;32m    285\u001B[0m \u001B[38;5;28;01mif\u001B[39;00m retries \u001B[38;5;241m>\u001B[39m \u001B[38;5;241m0\u001B[39m:\n\u001B[0;32m--> 286\u001B[0m     \u001B[38;5;28;01mreturn\u001B[39;00m \u001B[38;5;28;43mself\u001B[39;49m\u001B[38;5;241;43m.\u001B[39;49m\u001B[43m_op\u001B[49m\u001B[43m(\u001B[49m\u001B[43mverb\u001B[49m\u001B[43m,\u001B[49m\u001B[43m \u001B[49m\u001B[43murl\u001B[49m\u001B[43m,\u001B[49m\u001B[43m \u001B[49m\u001B[43mheaders\u001B[49m\u001B[43m,\u001B[49m\u001B[43m \u001B[49m\u001B[43margs\u001B[49m\u001B[43m,\u001B[49m\u001B[43m \u001B[49m\u001B[43mfiles\u001B[49m\u001B[43m,\u001B[49m\u001B[43m \u001B[49m\u001B[43mretries\u001B[49m\u001B[38;5;241;43m=\u001B[39;49m\u001B[43mretries\u001B[49m\u001B[43m \u001B[49m\u001B[38;5;241;43m-\u001B[39;49m\u001B[43m \u001B[49m\u001B[38;5;241;43m1\u001B[39;49m\u001B[43m)\u001B[49m\n\u001B[1;32m    287\u001B[0m \u001B[38;5;28;01mraise\u001B[39;00m FeatrixConnectionError(\n\u001B[1;32m    288\u001B[0m     url,\n\u001B[1;32m    289\u001B[0m     \u001B[38;5;124mf\u001B[39m\u001B[38;5;124m\"\u001B[39m\u001B[38;5;124mNo more retries, multiple errors \u001B[39m\u001B[38;5;132;01m{\u001B[39;00mresponse\u001B[38;5;241m.\u001B[39mstatus_code\u001B[38;5;250m \u001B[39m\u001B[38;5;28;01mif\u001B[39;00m\u001B[38;5;250m \u001B[39mresponse\u001B[38;5;250m \u001B[39m\u001B[38;5;28;01melse\u001B[39;00m\u001B[38;5;250m \u001B[39m\u001B[38;5;124m'\u001B[39m\u001B[38;5;124m'\u001B[39m\u001B[38;5;132;01m}\u001B[39;00m\u001B[38;5;124m\"\u001B[39m,\n\u001B[1;32m    290\u001B[0m )\n",
      "File \u001B[0;32m~/src/fc_os/src/python/featrixclient/api.py:286\u001B[0m, in \u001B[0;36mFeatrixApi._op\u001B[0;34m(self, verb, url, headers, args, files, retries)\u001B[0m\n\u001B[1;32m    281\u001B[0m     \u001B[38;5;66;03m# special_exception = ParseFeatrixError(err_text)\u001B[39;00m\n\u001B[1;32m    282\u001B[0m     \u001B[38;5;66;03m# if special_exception is not None:\u001B[39;00m\n\u001B[1;32m    283\u001B[0m     \u001B[38;5;66;03m#     raise special_exception\u001B[39;00m\n\u001B[1;32m    285\u001B[0m \u001B[38;5;28;01mif\u001B[39;00m retries \u001B[38;5;241m>\u001B[39m \u001B[38;5;241m0\u001B[39m:\n\u001B[0;32m--> 286\u001B[0m     \u001B[38;5;28;01mreturn\u001B[39;00m \u001B[38;5;28;43mself\u001B[39;49m\u001B[38;5;241;43m.\u001B[39;49m\u001B[43m_op\u001B[49m\u001B[43m(\u001B[49m\u001B[43mverb\u001B[49m\u001B[43m,\u001B[49m\u001B[43m \u001B[49m\u001B[43murl\u001B[49m\u001B[43m,\u001B[49m\u001B[43m \u001B[49m\u001B[43mheaders\u001B[49m\u001B[43m,\u001B[49m\u001B[43m \u001B[49m\u001B[43margs\u001B[49m\u001B[43m,\u001B[49m\u001B[43m \u001B[49m\u001B[43mfiles\u001B[49m\u001B[43m,\u001B[49m\u001B[43m \u001B[49m\u001B[43mretries\u001B[49m\u001B[38;5;241;43m=\u001B[39;49m\u001B[43mretries\u001B[49m\u001B[43m \u001B[49m\u001B[38;5;241;43m-\u001B[39;49m\u001B[43m \u001B[49m\u001B[38;5;241;43m1\u001B[39;49m\u001B[43m)\u001B[49m\n\u001B[1;32m    287\u001B[0m \u001B[38;5;28;01mraise\u001B[39;00m FeatrixConnectionError(\n\u001B[1;32m    288\u001B[0m     url,\n\u001B[1;32m    289\u001B[0m     \u001B[38;5;124mf\u001B[39m\u001B[38;5;124m\"\u001B[39m\u001B[38;5;124mNo more retries, multiple errors \u001B[39m\u001B[38;5;132;01m{\u001B[39;00mresponse\u001B[38;5;241m.\u001B[39mstatus_code\u001B[38;5;250m \u001B[39m\u001B[38;5;28;01mif\u001B[39;00m\u001B[38;5;250m \u001B[39mresponse\u001B[38;5;250m \u001B[39m\u001B[38;5;28;01melse\u001B[39;00m\u001B[38;5;250m \u001B[39m\u001B[38;5;124m'\u001B[39m\u001B[38;5;124m'\u001B[39m\u001B[38;5;132;01m}\u001B[39;00m\u001B[38;5;124m\"\u001B[39m,\n\u001B[1;32m    290\u001B[0m )\n",
      "File \u001B[0;32m~/src/fc_os/src/python/featrixclient/api.py:287\u001B[0m, in \u001B[0;36mFeatrixApi._op\u001B[0;34m(self, verb, url, headers, args, files, retries)\u001B[0m\n\u001B[1;32m    285\u001B[0m \u001B[38;5;28;01mif\u001B[39;00m retries \u001B[38;5;241m>\u001B[39m \u001B[38;5;241m0\u001B[39m:\n\u001B[1;32m    286\u001B[0m     \u001B[38;5;28;01mreturn\u001B[39;00m \u001B[38;5;28mself\u001B[39m\u001B[38;5;241m.\u001B[39m_op(verb, url, headers, args, files, retries\u001B[38;5;241m=\u001B[39mretries \u001B[38;5;241m-\u001B[39m \u001B[38;5;241m1\u001B[39m)\n\u001B[0;32m--> 287\u001B[0m \u001B[38;5;28;01mraise\u001B[39;00m FeatrixConnectionError(\n\u001B[1;32m    288\u001B[0m     url,\n\u001B[1;32m    289\u001B[0m     \u001B[38;5;124mf\u001B[39m\u001B[38;5;124m\"\u001B[39m\u001B[38;5;124mNo more retries, multiple errors \u001B[39m\u001B[38;5;132;01m{\u001B[39;00mresponse\u001B[38;5;241m.\u001B[39mstatus_code\u001B[38;5;250m \u001B[39m\u001B[38;5;28;01mif\u001B[39;00m\u001B[38;5;250m \u001B[39mresponse\u001B[38;5;250m \u001B[39m\u001B[38;5;28;01melse\u001B[39;00m\u001B[38;5;250m \u001B[39m\u001B[38;5;124m'\u001B[39m\u001B[38;5;124m'\u001B[39m\u001B[38;5;132;01m}\u001B[39;00m\u001B[38;5;124m\"\u001B[39m,\n\u001B[1;32m    290\u001B[0m )\n",
      "\u001B[0;31mFeatrixConnectionError\u001B[0m: Connection error for URL https://stage.featrix.com/api/neural/embedding_space/fast-encode-records: __No more retries, multiple errors __"
     ]
    }
   ],
   "execution_count": 5
  },
  {
   "metadata": {
    "ExecuteTime": {
     "end_time": "2024-08-07T21:18:21.411515Z",
     "start_time": "2024-08-07T21:18:20.613547Z"
    }
   },
   "cell_type": "code",
   "source": "es = FeatrixEmbeddingSpace.by_id('66b3d351fd34ec26b6c7464c', fc)",
   "id": "9973da5f87b2f5f",
   "outputs": [],
   "execution_count": 4
  },
  {
   "metadata": {
    "ExecuteTime": {
     "end_time": "2024-08-07T21:20:24.244969Z",
     "start_time": "2024-08-07T21:20:23.704685Z"
    }
   },
   "cell_type": "code",
   "source": "es.delete()",
   "id": "92c99a386dc8b2b2",
   "outputs": [
    {
     "ename": "FeatrixConnectionError",
     "evalue": "Connection error for URL https://stage.featrix.com/api/neural/embedding_space/66b3d351fd34ec26b6c7464c: __No more retries, multiple errors __",
     "output_type": "error",
     "traceback": [
      "\u001B[0;31m---------------------------------------------------------------------------\u001B[0m",
      "\u001B[0;31mFeatrixConnectionError\u001B[0m                    Traceback (most recent call last)",
      "Cell \u001B[0;32mIn[6], line 1\u001B[0m\n\u001B[0;32m----> 1\u001B[0m \u001B[43mes\u001B[49m\u001B[38;5;241;43m.\u001B[39;49m\u001B[43mdelete\u001B[49m\u001B[43m(\u001B[49m\u001B[43m)\u001B[49m\n",
      "File \u001B[0;32m~/src/fc_os/src/python/featrixclient/featrix_embedding_space.py:465\u001B[0m, in \u001B[0;36mFeatrixEmbeddingSpace.delete\u001B[0;34m(self)\u001B[0m\n\u001B[1;32m    461\u001B[0m \u001B[38;5;28;01mdef\u001B[39;00m \u001B[38;5;21mdelete\u001B[39m(\u001B[38;5;28mself\u001B[39m) \u001B[38;5;241m-\u001B[39m\u001B[38;5;241m>\u001B[39m \u001B[38;5;124m\"\u001B[39m\u001B[38;5;124mFeatrixEmbeddingSpace\u001B[39m\u001B[38;5;124m\"\u001B[39m:\n\u001B[1;32m    462\u001B[0m \u001B[38;5;250m    \u001B[39m\u001B[38;5;124;03m\"\"\"\u001B[39;00m\n\u001B[1;32m    463\u001B[0m \u001B[38;5;124;03m    Delete this embedding space off the server\u001B[39;00m\n\u001B[1;32m    464\u001B[0m \u001B[38;5;124;03m    \"\"\"\u001B[39;00m\n\u001B[0;32m--> 465\u001B[0m     result \u001B[38;5;241m=\u001B[39m \u001B[38;5;28;43mself\u001B[39;49m\u001B[38;5;241;43m.\u001B[39;49m\u001B[43m_fc\u001B[49m\u001B[38;5;241;43m.\u001B[39;49m\u001B[43mapi\u001B[49m\u001B[38;5;241;43m.\u001B[39;49m\u001B[43mop\u001B[49m\u001B[43m(\u001B[49m\u001B[38;5;124;43m\"\u001B[39;49m\u001B[38;5;124;43mes_delete\u001B[39;49m\u001B[38;5;124;43m\"\u001B[39;49m\u001B[43m,\u001B[49m\u001B[43m \u001B[49m\u001B[43membedding_space_id\u001B[49m\u001B[38;5;241;43m=\u001B[39;49m\u001B[38;5;28;43mstr\u001B[39;49m\u001B[43m(\u001B[49m\u001B[38;5;28;43mself\u001B[39;49m\u001B[38;5;241;43m.\u001B[39;49m\u001B[43mid\u001B[49m\u001B[43m)\u001B[49m\u001B[43m)\u001B[49m\n\u001B[1;32m    466\u001B[0m     \u001B[38;5;28;01mreturn\u001B[39;00m ApiInfo\u001B[38;5;241m.\u001B[39mreclass(FeatrixEmbeddingSpace, result, fc\u001B[38;5;241m=\u001B[39m\u001B[38;5;28mself\u001B[39m\u001B[38;5;241m.\u001B[39m_fc)\n",
      "File \u001B[0;32m~/src/fc_os/src/python/featrixclient/api.py:218\u001B[0m, in \u001B[0;36mFeatrixApi.op\u001B[0;34m(self, api_call, *args, **kwargs)\u001B[0m\n\u001B[1;32m    216\u001B[0m \u001B[38;5;66;03m# print(f\"Calling _op with args type {type(arguments)}\")\u001B[39;00m\n\u001B[1;32m    217\u001B[0m url \u001B[38;5;241m=\u001B[39m \u001B[38;5;124mf\u001B[39m\u001B[38;5;124m\"\u001B[39m\u001B[38;5;132;01m{\u001B[39;00m\u001B[38;5;28mself\u001B[39m\u001B[38;5;241m.\u001B[39murl\u001B[38;5;132;01m}\u001B[39;00m\u001B[38;5;132;01m{\u001B[39;00mApiInfo\u001B[38;5;241m.\u001B[39murl_substitution(api\u001B[38;5;241m.\u001B[39murl,\u001B[38;5;250m \u001B[39m\u001B[38;5;241m*\u001B[39m\u001B[38;5;241m*\u001B[39mkwargs)\u001B[38;5;132;01m}\u001B[39;00m\u001B[38;5;124m\"\u001B[39m\n\u001B[0;32m--> 218\u001B[0m response_data \u001B[38;5;241m=\u001B[39m \u001B[38;5;28;43mself\u001B[39;49m\u001B[38;5;241;43m.\u001B[39;49m\u001B[43m_op\u001B[49m\u001B[43m(\u001B[49m\u001B[43mverb\u001B[49m\u001B[43m,\u001B[49m\u001B[43m \u001B[49m\u001B[43murl\u001B[49m\u001B[43m,\u001B[49m\u001B[43m \u001B[49m\u001B[38;5;28;43mself\u001B[39;49m\u001B[38;5;241;43m.\u001B[39;49m\u001B[43m_featrix_headers\u001B[49m\u001B[43m(\u001B[49m\u001B[43m)\u001B[49m\u001B[43m,\u001B[49m\u001B[43m \u001B[49m\u001B[43marguments\u001B[49m\u001B[43m,\u001B[49m\u001B[43m \u001B[49m\u001B[43mfiles\u001B[49m\u001B[43m)\u001B[49m\n\u001B[1;32m    219\u001B[0m \u001B[38;5;28;01mreturn\u001B[39;00m ApiInfo\u001B[38;5;241m.\u001B[39mfeatrix_validate(api_call, response_data)\n",
      "File \u001B[0;32m~/src/fc_os/src/python/featrixclient/api.py:286\u001B[0m, in \u001B[0;36mFeatrixApi._op\u001B[0;34m(self, verb, url, headers, args, files, retries)\u001B[0m\n\u001B[1;32m    281\u001B[0m     \u001B[38;5;66;03m# special_exception = ParseFeatrixError(err_text)\u001B[39;00m\n\u001B[1;32m    282\u001B[0m     \u001B[38;5;66;03m# if special_exception is not None:\u001B[39;00m\n\u001B[1;32m    283\u001B[0m     \u001B[38;5;66;03m#     raise special_exception\u001B[39;00m\n\u001B[1;32m    285\u001B[0m \u001B[38;5;28;01mif\u001B[39;00m retries \u001B[38;5;241m>\u001B[39m \u001B[38;5;241m0\u001B[39m:\n\u001B[0;32m--> 286\u001B[0m     \u001B[38;5;28;01mreturn\u001B[39;00m \u001B[38;5;28;43mself\u001B[39;49m\u001B[38;5;241;43m.\u001B[39;49m\u001B[43m_op\u001B[49m\u001B[43m(\u001B[49m\u001B[43mverb\u001B[49m\u001B[43m,\u001B[49m\u001B[43m \u001B[49m\u001B[43murl\u001B[49m\u001B[43m,\u001B[49m\u001B[43m \u001B[49m\u001B[43mheaders\u001B[49m\u001B[43m,\u001B[49m\u001B[43m \u001B[49m\u001B[43margs\u001B[49m\u001B[43m,\u001B[49m\u001B[43m \u001B[49m\u001B[43mfiles\u001B[49m\u001B[43m,\u001B[49m\u001B[43m \u001B[49m\u001B[43mretries\u001B[49m\u001B[38;5;241;43m=\u001B[39;49m\u001B[43mretries\u001B[49m\u001B[43m \u001B[49m\u001B[38;5;241;43m-\u001B[39;49m\u001B[43m \u001B[49m\u001B[38;5;241;43m1\u001B[39;49m\u001B[43m)\u001B[49m\n\u001B[1;32m    287\u001B[0m \u001B[38;5;28;01mraise\u001B[39;00m FeatrixConnectionError(\n\u001B[1;32m    288\u001B[0m     url,\n\u001B[1;32m    289\u001B[0m     \u001B[38;5;124mf\u001B[39m\u001B[38;5;124m\"\u001B[39m\u001B[38;5;124mNo more retries, multiple errors \u001B[39m\u001B[38;5;132;01m{\u001B[39;00mresponse\u001B[38;5;241m.\u001B[39mstatus_code\u001B[38;5;250m \u001B[39m\u001B[38;5;28;01mif\u001B[39;00m\u001B[38;5;250m \u001B[39mresponse\u001B[38;5;250m \u001B[39m\u001B[38;5;28;01melse\u001B[39;00m\u001B[38;5;250m \u001B[39m\u001B[38;5;124m'\u001B[39m\u001B[38;5;124m'\u001B[39m\u001B[38;5;132;01m}\u001B[39;00m\u001B[38;5;124m\"\u001B[39m,\n\u001B[1;32m    290\u001B[0m )\n",
      "File \u001B[0;32m~/src/fc_os/src/python/featrixclient/api.py:286\u001B[0m, in \u001B[0;36mFeatrixApi._op\u001B[0;34m(self, verb, url, headers, args, files, retries)\u001B[0m\n\u001B[1;32m    281\u001B[0m     \u001B[38;5;66;03m# special_exception = ParseFeatrixError(err_text)\u001B[39;00m\n\u001B[1;32m    282\u001B[0m     \u001B[38;5;66;03m# if special_exception is not None:\u001B[39;00m\n\u001B[1;32m    283\u001B[0m     \u001B[38;5;66;03m#     raise special_exception\u001B[39;00m\n\u001B[1;32m    285\u001B[0m \u001B[38;5;28;01mif\u001B[39;00m retries \u001B[38;5;241m>\u001B[39m \u001B[38;5;241m0\u001B[39m:\n\u001B[0;32m--> 286\u001B[0m     \u001B[38;5;28;01mreturn\u001B[39;00m \u001B[38;5;28;43mself\u001B[39;49m\u001B[38;5;241;43m.\u001B[39;49m\u001B[43m_op\u001B[49m\u001B[43m(\u001B[49m\u001B[43mverb\u001B[49m\u001B[43m,\u001B[49m\u001B[43m \u001B[49m\u001B[43murl\u001B[49m\u001B[43m,\u001B[49m\u001B[43m \u001B[49m\u001B[43mheaders\u001B[49m\u001B[43m,\u001B[49m\u001B[43m \u001B[49m\u001B[43margs\u001B[49m\u001B[43m,\u001B[49m\u001B[43m \u001B[49m\u001B[43mfiles\u001B[49m\u001B[43m,\u001B[49m\u001B[43m \u001B[49m\u001B[43mretries\u001B[49m\u001B[38;5;241;43m=\u001B[39;49m\u001B[43mretries\u001B[49m\u001B[43m \u001B[49m\u001B[38;5;241;43m-\u001B[39;49m\u001B[43m \u001B[49m\u001B[38;5;241;43m1\u001B[39;49m\u001B[43m)\u001B[49m\n\u001B[1;32m    287\u001B[0m \u001B[38;5;28;01mraise\u001B[39;00m FeatrixConnectionError(\n\u001B[1;32m    288\u001B[0m     url,\n\u001B[1;32m    289\u001B[0m     \u001B[38;5;124mf\u001B[39m\u001B[38;5;124m\"\u001B[39m\u001B[38;5;124mNo more retries, multiple errors \u001B[39m\u001B[38;5;132;01m{\u001B[39;00mresponse\u001B[38;5;241m.\u001B[39mstatus_code\u001B[38;5;250m \u001B[39m\u001B[38;5;28;01mif\u001B[39;00m\u001B[38;5;250m \u001B[39mresponse\u001B[38;5;250m \u001B[39m\u001B[38;5;28;01melse\u001B[39;00m\u001B[38;5;250m \u001B[39m\u001B[38;5;124m'\u001B[39m\u001B[38;5;124m'\u001B[39m\u001B[38;5;132;01m}\u001B[39;00m\u001B[38;5;124m\"\u001B[39m,\n\u001B[1;32m    290\u001B[0m )\n",
      "File \u001B[0;32m~/src/fc_os/src/python/featrixclient/api.py:286\u001B[0m, in \u001B[0;36mFeatrixApi._op\u001B[0;34m(self, verb, url, headers, args, files, retries)\u001B[0m\n\u001B[1;32m    281\u001B[0m     \u001B[38;5;66;03m# special_exception = ParseFeatrixError(err_text)\u001B[39;00m\n\u001B[1;32m    282\u001B[0m     \u001B[38;5;66;03m# if special_exception is not None:\u001B[39;00m\n\u001B[1;32m    283\u001B[0m     \u001B[38;5;66;03m#     raise special_exception\u001B[39;00m\n\u001B[1;32m    285\u001B[0m \u001B[38;5;28;01mif\u001B[39;00m retries \u001B[38;5;241m>\u001B[39m \u001B[38;5;241m0\u001B[39m:\n\u001B[0;32m--> 286\u001B[0m     \u001B[38;5;28;01mreturn\u001B[39;00m \u001B[38;5;28;43mself\u001B[39;49m\u001B[38;5;241;43m.\u001B[39;49m\u001B[43m_op\u001B[49m\u001B[43m(\u001B[49m\u001B[43mverb\u001B[49m\u001B[43m,\u001B[49m\u001B[43m \u001B[49m\u001B[43murl\u001B[49m\u001B[43m,\u001B[49m\u001B[43m \u001B[49m\u001B[43mheaders\u001B[49m\u001B[43m,\u001B[49m\u001B[43m \u001B[49m\u001B[43margs\u001B[49m\u001B[43m,\u001B[49m\u001B[43m \u001B[49m\u001B[43mfiles\u001B[49m\u001B[43m,\u001B[49m\u001B[43m \u001B[49m\u001B[43mretries\u001B[49m\u001B[38;5;241;43m=\u001B[39;49m\u001B[43mretries\u001B[49m\u001B[43m \u001B[49m\u001B[38;5;241;43m-\u001B[39;49m\u001B[43m \u001B[49m\u001B[38;5;241;43m1\u001B[39;49m\u001B[43m)\u001B[49m\n\u001B[1;32m    287\u001B[0m \u001B[38;5;28;01mraise\u001B[39;00m FeatrixConnectionError(\n\u001B[1;32m    288\u001B[0m     url,\n\u001B[1;32m    289\u001B[0m     \u001B[38;5;124mf\u001B[39m\u001B[38;5;124m\"\u001B[39m\u001B[38;5;124mNo more retries, multiple errors \u001B[39m\u001B[38;5;132;01m{\u001B[39;00mresponse\u001B[38;5;241m.\u001B[39mstatus_code\u001B[38;5;250m \u001B[39m\u001B[38;5;28;01mif\u001B[39;00m\u001B[38;5;250m \u001B[39mresponse\u001B[38;5;250m \u001B[39m\u001B[38;5;28;01melse\u001B[39;00m\u001B[38;5;250m \u001B[39m\u001B[38;5;124m'\u001B[39m\u001B[38;5;124m'\u001B[39m\u001B[38;5;132;01m}\u001B[39;00m\u001B[38;5;124m\"\u001B[39m,\n\u001B[1;32m    290\u001B[0m )\n",
      "File \u001B[0;32m~/src/fc_os/src/python/featrixclient/api.py:287\u001B[0m, in \u001B[0;36mFeatrixApi._op\u001B[0;34m(self, verb, url, headers, args, files, retries)\u001B[0m\n\u001B[1;32m    285\u001B[0m \u001B[38;5;28;01mif\u001B[39;00m retries \u001B[38;5;241m>\u001B[39m \u001B[38;5;241m0\u001B[39m:\n\u001B[1;32m    286\u001B[0m     \u001B[38;5;28;01mreturn\u001B[39;00m \u001B[38;5;28mself\u001B[39m\u001B[38;5;241m.\u001B[39m_op(verb, url, headers, args, files, retries\u001B[38;5;241m=\u001B[39mretries \u001B[38;5;241m-\u001B[39m \u001B[38;5;241m1\u001B[39m)\n\u001B[0;32m--> 287\u001B[0m \u001B[38;5;28;01mraise\u001B[39;00m FeatrixConnectionError(\n\u001B[1;32m    288\u001B[0m     url,\n\u001B[1;32m    289\u001B[0m     \u001B[38;5;124mf\u001B[39m\u001B[38;5;124m\"\u001B[39m\u001B[38;5;124mNo more retries, multiple errors \u001B[39m\u001B[38;5;132;01m{\u001B[39;00mresponse\u001B[38;5;241m.\u001B[39mstatus_code\u001B[38;5;250m \u001B[39m\u001B[38;5;28;01mif\u001B[39;00m\u001B[38;5;250m \u001B[39mresponse\u001B[38;5;250m \u001B[39m\u001B[38;5;28;01melse\u001B[39;00m\u001B[38;5;250m \u001B[39m\u001B[38;5;124m'\u001B[39m\u001B[38;5;124m'\u001B[39m\u001B[38;5;132;01m}\u001B[39;00m\u001B[38;5;124m\"\u001B[39m,\n\u001B[1;32m    290\u001B[0m )\n",
      "\u001B[0;31mFeatrixConnectionError\u001B[0m: Connection error for URL https://stage.featrix.com/api/neural/embedding_space/66b3d351fd34ec26b6c7464c: __No more retries, multiple errors __"
     ]
    }
   ],
   "execution_count": 6
  },
  {
   "metadata": {
    "ExecuteTime": {
     "end_time": "2024-08-07T18:18:17.336642Z",
     "start_time": "2024-08-07T18:18:14.341188Z"
    }
   },
   "cell_type": "code",
   "source": [
    "#\n",
    "# Create a neural function in a new project\n",
    "#\n",
    "\n",
    "project = fc.create_project(f\"Testing FC {uuid.uuid4()}\")\n",
    "upload = fc.upload_file(Path(\"../data/animals-1kv3.csv\"))\n",
    "# If you already have it uploaded, you can find it with:\n",
    "# upload = fc.get_upload(filename=\"animals-1k.csv\")\n",
    "project = project.associate(upload)\n",
    "if project.ready() is False:\n",
    "    jobs = upload.get_jobs()\n",
    "    jobs[-1].wait_for_completion(\"Processing Upload...\")\n",
    "    \n",
    "nf = fc.create_neural_function(target_fields=\"Height\", project=project)\n",
    "es = FeatrixEmbeddingSpace.by_id(nf.embedding_space_id, fc)\n",
    "es_jobs = es.get_jobs()\n",
    "nf_jobs = nf.get_jobs()\n",
    "assert(1 == len(es_jobs))\n",
    "assert(1 == len(nf_jobs))\n",
    "# wait for the es\n",
    "es_jobs[0].wait_for_completion(\"Embedding Space Training...\")\n",
    "nf_jobs[0].wait_for_completion(\"Neural Function Training...\")"
   ],
   "id": "7bab33008bfda195",
   "outputs": [
    {
     "name": "stdout",
     "output_type": "stream",
     "text": [
      "Called project.ready(False\n",
      "Called project.ready(False\n",
      "Initially the not ready count is 0\n",
      "ES jobs 1:\n"
     ]
    }
   ],
   "execution_count": 3
  },
  {
   "metadata": {
    "ExecuteTime": {
     "end_time": "2024-08-07T18:33:44.849556Z",
     "start_time": "2024-08-07T18:33:44.553559Z"
    }
   },
   "cell_type": "code",
   "source": [
    "project = projects[0]\n",
    "embedding_list = project.embedding_spaces()\n",
    "print(f\"project {project.id} embeddings: {embedding_list[0].project_id} {len(embedding_list)}\")\n",
    "nf_list = project.neural_functions(embedding_space=embedding_list[0])"
   ],
   "id": "9f0eedb5bb5732ae",
   "outputs": [
    {
     "name": "stdout",
     "output_type": "stream",
     "text": [
      "project 66b3ba666b2d29b4e5b80b5a embeddings: 66b3ba666b2d29b4e5b80b5a 1\n"
     ]
    }
   ],
   "execution_count": 3
  },
  {
   "metadata": {
    "ExecuteTime": {
     "end_time": "2024-08-07T20:16:52.154649Z",
     "start_time": "2024-08-07T20:16:51.129906Z"
    }
   },
   "cell_type": "code",
   "source": [
    "es = es.refresh()\n",
    "es.create_neural_function(target_fields=\"weight\", wait_For_completion=True)"
   ],
   "id": "8989ca0e08a9e291",
   "outputs": [
    {
     "name": "stdout",
     "output_type": "stream",
     "text": [
      "Called project.ready(False\n",
      "Initially the not ready count is 0\n"
     ]
    },
    {
     "data": {
      "text/plain": [
       "FeatrixNeuralFunction(id='66b3d6333f9e71e869407ac1', created_by=ObjectId('65f9fc5c94e2d92af20ff47b'), created_at=datetime.datetime(2024, 8, 7, 20, 16, 51, 625000), updated_at=datetime.datetime(2024, 8, 7, 20, 16, 51, 626000), name='predict_weight', organization_id=ObjectId('65f9fc5a94e2d92af20ff47a'), project_id=ObjectId('66b3d350fd34ec26b6c74649'), embedding_space_id=ObjectId('66b3d351fd34ec26b6c7464c'), associated_uploads=[UploadAssociation(upload_id=ObjectId('66b3d08a3f9e71e869407abc'), label='animals-1k', sample_percentage=1.0, sample_row_count=0, drop_duplicates=False, upload=None)], target_columns=['weight'], training_rows=0, training_input_columns=[], training_num_uniques=None, training_num_not_nulls=None, training_target_histogram=None, training_metrics=None, learning_rate=0.0001, epochs=0, model_size='small', target_type=None, mlp_predictor=None, job_id=None, training_state=<TrainingState.PENDING: 'training-pending'>, training_credits_budgeted=3.0, training_credits_actual=0.0, user_meta={}, _id='66b3d6333f9e71e869407ac1')"
      ]
     },
     "execution_count": 6,
     "metadata": {},
     "output_type": "execute_result"
    }
   ],
   "execution_count": 6
  },
  {
   "metadata": {
    "ExecuteTime": {
     "end_time": "2024-08-07T17:57:11.648596Z",
     "start_time": "2024-08-07T17:57:11.485459Z"
    }
   },
   "cell_type": "code",
   "source": [
    "jobs = project.jobs()\n",
    "print(jobs[0].model_dump_json(indent=2))"
   ],
   "id": "aaccd9abd96ebd67",
   "outputs": [
    {
     "name": "stdout",
     "output_type": "stream",
     "text": [
      "{\n",
      "  \"id\": \"66b3b4916b2d29b4e5b80b59\",\n",
      "  \"created_by\": \"65f9fc5c94e2d92af20ff47b\",\n",
      "  \"created_at\": \"2024-08-07T17:53:21.010000\",\n",
      "  \"updated_at\": \"2024-08-07T17:53:21.203000\",\n",
      "  \"organization_id\": \"65f9fc5a94e2d92af20ff47a\",\n",
      "  \"job_type\": \"embedding-space-projection-create\",\n",
      "  \"readonly_object\": false,\n",
      "  \"project_id\": \"66b3b30dfcba35085277c8f9\",\n",
      "  \"embedding_space_id\": \"66b3b4906b2d29b4e5b80b57\",\n",
      "  \"model_id\": null,\n",
      "  \"upload_ids\": null,\n",
      "  \"finished\": false,\n",
      "  \"error\": false,\n",
      "  \"message\": null,\n",
      "  \"error_msg\": null,\n",
      "  \"error_details\": null,\n",
      "  \"error_time\": null,\n",
      "  \"exception\": null,\n",
      "  \"warnings\": [],\n",
      "  \"start_time\": null,\n",
      "  \"end_time\": null,\n",
      "  \"celery_id\": \"355a2cbb-9e74-4a9b-98f9-8bc01688010d\",\n",
      "  \"changed_ids\": null,\n",
      "  \"finished_stats\": null,\n",
      "  \"request_args\": {\n",
      "    \"job_type\": \"embedding-space-projection-create\",\n",
      "    \"skip_auto_load\": false,\n",
      "    \"project_id\": \"66b3b30dfcba35085277c8f9\",\n",
      "    \"embedding_space_id\": \"66b3b4906b2d29b4e5b80b57\"\n",
      "  },\n",
      "  \"incremental_status\": null,\n",
      "  \"last_updated\": \"2024-08-07T17:53:21.010000\",\n",
      "  \"results\": null,\n",
      "  \"chained_job_id\": null,\n",
      "  \"working_directory\": null,\n",
      "  \"working_host\": null,\n",
      "  \"incident\": null,\n",
      "  \"system_meta\": null,\n",
      "  \"auto_launch\": null,\n",
      "  \"required_job_id\": null,\n",
      "  \"parent_job_id\": null,\n",
      "  \"_id\": \"66b3b4916b2d29b4e5b80b59\"\n",
      "}\n"
     ]
    }
   ],
   "execution_count": 20
  },
  {
   "metadata": {},
   "cell_type": "markdown",
   "source": "## From the docs on what to tell people to do ",
   "id": "f78bff106dca15b2"
  },
  {
   "metadata": {},
   "cell_type": "code",
   "source": [
    "import featrixclient as ft\n",
    "\n",
    "# Split the data\n",
    "#df_train, df_test = train_test_split(df, test_size=0.25)\n",
    " \n",
    "# Connect to the Featrix service with your API key; create one at https://app.featrix.com/\n",
    "featrix = ft.new_client(url=url)\n",
    "\n",
    "# Here we assume that we have used the GUI to (1) create a demo project called 'DemoProject' and (2) uploaded a training csv file.\n",
    "# If you need a train.csv file, we keep one handy at https://bits.featrix.com/demo-data/github.com-anujtiwari21/train.csv\n",
    "demoProject = None\n",
    "try:\n",
    "    demoProject = featrix.get_project_by_name(\"DemoProject\")\n",
    "except:\n",
    "    pass\n",
    "if demoProject is None:\n",
    "    demoProject = featrix.create_project(\"DemoProject\")\n",
    "    upload = featrix.upload_file(\"../data/animals-1k.csv\")\n",
    "    demoProject = demoProject.associate(upload)\n",
    "# \n",
    "\n",
    "# Here we create a new embedding space (foundational model) and train it on the data that we have uploaded into 'demoProject'\n",
    "embeddingSpace = demoProject.create_embedding_space(wait_for_completion=True)\n",
    "\n",
    "# We can create multiple neural functions (predictive models) within an embedding space.\n",
    "# This lets us re-use representations for different predictions without retraining the embedding space.\n",
    "# Note, too, that you could train the model on a different training set than the embedding space, if you want to zero in on something\n",
    "# for a specific model.\n",
    "nf = embeddingSpace.create_neural_function(target_field='weight',\n",
    "                                           wait_for_completion=True)\n",
    "\n",
    "# Run predictions\n",
    "#result = nf.predict(df_test)\n",
    "\n",
    "# Now result is a list of classifications in the same symbols as the target column"
   ],
   "id": "b2153e333b2e0718",
   "execution_count": 15,
   "outputs": [
    {
     "name": "stdout",
     "output_type": "stream",
     "text": [
      "Training Embedding Space:  Running: training;    100.0% complete (00:00:00 remaining); epoch = 5/5; current loss = 1.108\n"
     ]
    },
    {
     "ename": "TypeError",
     "evalue": "create_neural_function() missing 1 required positional argument: 'target_fields'",
     "output_type": "error",
     "traceback": [
      "\u001B[0;31m---------------------------------------------------------------------------\u001B[0m",
      "\u001B[0;31mTypeError\u001B[0m                                 Traceback (most recent call last)",
      "Cell \u001B[0;32mIn[15], line 29\u001B[0m\n\u001B[1;32m     23\u001B[0m embeddingSpace \u001B[38;5;241m=\u001B[39m demoProject\u001B[38;5;241m.\u001B[39mcreate_embedding_space(wait_for_completion\u001B[38;5;241m=\u001B[39m\u001B[38;5;28;01mTrue\u001B[39;00m)\n\u001B[1;32m     25\u001B[0m \u001B[38;5;66;03m# We can create multiple neural functions (predictive models) within an embedding space.\u001B[39;00m\n\u001B[1;32m     26\u001B[0m \u001B[38;5;66;03m# This lets us re-use representations for different predictions without retraining the embedding space.\u001B[39;00m\n\u001B[1;32m     27\u001B[0m \u001B[38;5;66;03m# Note, too, that you could train the model on a different training set than the embedding space, if you want to zero in on something\u001B[39;00m\n\u001B[1;32m     28\u001B[0m \u001B[38;5;66;03m# for a specific model.\u001B[39;00m\n\u001B[0;32m---> 29\u001B[0m nf \u001B[38;5;241m=\u001B[39m \u001B[43membeddingSpace\u001B[49m\u001B[38;5;241;43m.\u001B[39;49m\u001B[43mcreate_neural_function\u001B[49m\u001B[43m(\u001B[49m\u001B[43mtarget_column\u001B[49m\u001B[38;5;241;43m=\u001B[39;49m\u001B[38;5;124;43m'\u001B[39;49m\u001B[38;5;124;43mweight\u001B[39;49m\u001B[38;5;124;43m'\u001B[39;49m\u001B[43m,\u001B[49m\n\u001B[1;32m     30\u001B[0m \u001B[43m                                           \u001B[49m\u001B[43mwait_for_completion\u001B[49m\u001B[38;5;241;43m=\u001B[39;49m\u001B[38;5;28;43;01mTrue\u001B[39;49;00m\u001B[43m)\u001B[49m\n\u001B[1;32m     32\u001B[0m \u001B[38;5;66;03m# Run predictions\u001B[39;00m\n\u001B[1;32m     33\u001B[0m \u001B[38;5;66;03m#result = nf.predict(df_test)\u001B[39;00m\n\u001B[1;32m     34\u001B[0m \n\u001B[1;32m     35\u001B[0m \u001B[38;5;66;03m# Now result is a list of classifications in the same symbols as the target column\u001B[39;00m\n",
      "\u001B[0;31mTypeError\u001B[0m: create_neural_function() missing 1 required positional argument: 'target_fields'"
     ]
    }
   ]
  },
  {
   "metadata": {},
   "cell_type": "code",
   "source": [
    "nf = embeddingSpace.create_neural_function(target_fields='weight',\n",
    "                                           wait_for_completion=True)"
   ],
   "id": "c14fa3bc8a64228d",
   "execution_count": 17,
   "outputs": [
    {
     "name": "stdout",
     "output_type": "stream",
     "text": [
      "Training Neural Function predict_weight:  Running: training;    100.0% complete (00:00:00 remaining); epoch = 76/75; current loss = 0.437, validation loss: 0.11660481244325638\n"
     ]
    }
   ]
  },
  {
   "metadata": {
    "ExecuteTime": {
     "end_time": "2024-08-08T17:33:50.094293Z",
     "start_time": "2024-08-08T17:33:49.942287Z"
    }
   },
   "cell_type": "code",
   "source": [
    "demoProject = featrix.get_project_by_name(\"DemoProject\")\n",
    "print(demoProject) "
   ],
   "id": "171fb63bfb441b82",
   "outputs": [
    {
     "name": "stdout",
     "output_type": "stream",
     "text": [
      "None\n"
     ]
    }
   ],
   "execution_count": 12
  }
 ],
 "metadata": {
  "kernelspec": {
   "display_name": "Python 3",
   "language": "python",
   "name": "python3"
  },
  "language_info": {
   "codemirror_mode": {
    "name": "ipython",
    "version": 2
   },
   "file_extension": ".py",
   "mimetype": "text/x-python",
   "name": "python",
   "nbconvert_exporter": "python",
   "pygments_lexer": "ipython2",
   "version": "2.7.6"
  }
 },
 "nbformat": 4,
 "nbformat_minor": 5
}
